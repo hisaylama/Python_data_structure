{
 "cells": [
  {
   "cell_type": "markdown",
   "id": "8fd17d6b-2147-4a4f-984f-b14b4e4586d9",
   "metadata": {},
   "source": [
    "## String compression\n",
    "\n",
    "### Problem\n",
    "\n",
    "Given the string in the form \"AAAABBBBCCCC\" = \"A4B4C4\"\n",
    "\n"
   ]
  },
  {
   "cell_type": "code",
   "execution_count": 5,
   "id": "bc1c331e-bedc-42cf-ac09-f554afe3ae1e",
   "metadata": {},
   "outputs": [],
   "source": [
    "def compress(s):\n",
    "    \"\"\"\n",
    "    This solution compress without checking. Known as the \n",
    "    RunLength compression\n",
    "    \"\"\"\n",
    "    \n",
    "    #Begin Run as empty string\n",
    "    r = \"\"\n",
    "    l = len(s)\n",
    "    \n",
    "    #Check for length 0\n",
    "    if l == 0:\n",
    "        return \"\"\n",
    "    \n",
    "    #Check for length l\n",
    "    if l == 1:\n",
    "        return s+\"1\"\n",
    "    \n",
    "    #Initialize Values\n",
    "    last = s[0]\n",
    "    cnt = 1\n",
    "    i = 1\n",
    "    \n",
    "    while i < l:\n",
    "        #Check to see if it is the same letter\n",
    "        if s[i] == s[i-1]:\n",
    "            #Add a count if same as previous\n",
    "            cnt +=1\n",
    "        \n",
    "        else:\n",
    "            #Otherwise store the previous data\n",
    "            r = r + s[i-1] + str(cnt)\n",
    "            cnt = 1\n",
    "            \n",
    "        #Add to index count to terminate while loop\n",
    "        i+=1\n",
    "    #Put everything back into run    \n",
    "    r = r + s[i -1] + str(cnt)\n",
    "    \n",
    "    return r\n",
    "        "
   ]
  },
  {
   "cell_type": "code",
   "execution_count": 6,
   "id": "cf7cadd6-cc7c-41b7-89d3-7819984b028d",
   "metadata": {},
   "outputs": [
    {
     "data": {
      "text/plain": [
       "'A3'"
      ]
     },
     "execution_count": 6,
     "metadata": {},
     "output_type": "execute_result"
    }
   ],
   "source": [
    "compress('AAA')"
   ]
  },
  {
   "cell_type": "markdown",
   "id": "462f13c8-b90a-4715-a64f-2d70c60d632e",
   "metadata": {},
   "source": [
    "## Test your solution\n",
    "\n"
   ]
  },
  {
   "cell_type": "code",
   "execution_count": 15,
   "id": "cf22bd5b-876c-4780-848b-c8db2cbc552b",
   "metadata": {},
   "outputs": [
    {
     "name": "stdout",
     "output_type": "stream",
     "text": [
      "ALL TEST CASES PASSED\n"
     ]
    }
   ],
   "source": [
    "\"\"\"\n",
    "RUN THIS CELL TO TEST YOUR SOLUTION\n",
    "\"\"\"\n",
    "\n",
    "from nose.tools import assert_equal\n",
    "\n",
    "class TestCompress(object):\n",
    "    \n",
    "    def test(self, sol):\n",
    "        assert_equal(sol(''), '')\n",
    "        assert_equal(sol('AABBCC'), 'A2B2C2')\n",
    "        assert_equal(sol('AAABBBCCC'), 'A3B3C3')\n",
    "        print('ALL TEST CASES PASSED')\n",
    "        \n",
    "#Run Tests\n",
    "t = TestCompress()\n",
    "t.test(compress)"
   ]
  },
  {
   "cell_type": "markdown",
   "id": "a3bae48f-3873-41d0-b990-bc5416001ff4",
   "metadata": {},
   "source": [
    "## Unique characters in string"
   ]
  },
  {
   "cell_type": "code",
   "execution_count": 17,
   "id": "012e55ad-bbdd-4b32-8867-0839c3868584",
   "metadata": {},
   "outputs": [],
   "source": [
    "#1. Built in data_structure\n",
    "def uni_char(s):\n",
    "    return len(set(s)) == len(s)"
   ]
  },
  {
   "cell_type": "code",
   "execution_count": 18,
   "id": "dee9c9c5-4f78-4350-bff1-5666cae02e3c",
   "metadata": {},
   "outputs": [
    {
     "data": {
      "text/plain": [
       "False"
      ]
     },
     "execution_count": 18,
     "metadata": {},
     "output_type": "execute_result"
    }
   ],
   "source": [
    "uni_char('abcba')"
   ]
  },
  {
   "cell_type": "code",
   "execution_count": 20,
   "id": "d7921210-532e-4b9e-8974-35d06ee3f21f",
   "metadata": {},
   "outputs": [
    {
     "data": {
      "text/plain": [
       "False"
      ]
     },
     "execution_count": 20,
     "metadata": {},
     "output_type": "execute_result"
    }
   ],
   "source": [
    "def uni_char2(s):\n",
    "    char = set()\n",
    "    \n",
    "    for let in s:\n",
    "        if let in char:\n",
    "            return False\n",
    "        else:\n",
    "            char.add(let)\n",
    "    return True\n",
    " \n",
    "uni_char2('abcba')"
   ]
  },
  {
   "cell_type": "code",
   "execution_count": 23,
   "id": "88a6467f-20b4-4cb4-95c5-073424f5a27f",
   "metadata": {},
   "outputs": [
    {
     "name": "stdout",
     "output_type": "stream",
     "text": [
      "ALL TEST CASES PASSED\n"
     ]
    }
   ],
   "source": [
    "\"\"\"\n",
    "RUN THIS CELL TO TEST YOUR SOLUTION\n",
    "\"\"\"\n",
    "from nose.tools import assert_equal\n",
    "\n",
    "class TestUniChar(object):\n",
    "    def test(self, sol):\n",
    "        assert_equal(sol(''), True)\n",
    "        assert_equal(sol('AABBCC'), False)\n",
    "        assert_equal(sol('AAABBBCCC'), False)\n",
    "        assert_equal(sol('ABC'), True)\n",
    "        print('ALL TEST CASES PASSED')\n",
    "             \n",
    "#Run Tests\n",
    "t = TestUniChar()\n",
    "t.test(uni_char2)     "
   ]
  },
  {
   "cell_type": "markdown",
   "id": "bccd49b3-232b-49a2-a989-8406c85a6b11",
   "metadata": {},
   "source": [
    "## Implementation of Stack"
   ]
  },
  {
   "cell_type": "code",
   "execution_count": 2,
   "id": "89794b56-2aee-4c4b-89a5-85dcde5045f4",
   "metadata": {},
   "outputs": [],
   "source": [
    "class Stack(object):\n",
    "    \n",
    "    def __init___(self):\n",
    "        self.items = []\n",
    "        \n",
    "    def isEmpty(self):\n",
    "        return self.items == []\n",
    "    \n",
    "    def push(self, item):\n",
    "        pass\n",
    "    \n",
    "    def peek(self):\n",
    "         pass\n",
    "    \n",
    "    def size(self):\n",
    "        return len(self.items)\n",
    "    \n",
    "    def pop(self):\n",
    "        \n",
    "        pass"
   ]
  },
  {
   "cell_type": "markdown",
   "id": "c12ec05b-2290-4c2b-88e3-28f603c1426b",
   "metadata": {},
   "source": [
    "## Queue\n",
    "(FIFO: First in First Out)\n",
    "\n",
    "### Implementation of queue\n",
    "\n",
    "\n",
    "## Deque \n",
    "Items are added at front and rear end.\n",
    "### Implementation of Deque\n",
    "\n",
    "**Common interview question on stack:**\n",
    "\n",
    "*Implementation of stack*\n",
    "\n",
    "- Check if its empty\n",
    "\n",
    "- Push a new item\n",
    "\n",
    "- Pop an item\n",
    "\n",
    "- Peek at the top item\n",
    "\n",
    "- Return the size\n",
    "\n"
   ]
  },
  {
   "cell_type": "code",
   "execution_count": null,
   "id": "bf15ea3d-e079-457a-8d92-ebbed5bc4c7a",
   "metadata": {},
   "outputs": [],
   "source": []
  }
 ],
 "metadata": {
  "kernelspec": {
   "display_name": "Python 3 (ipykernel)",
   "language": "python",
   "name": "python3"
  },
  "language_info": {
   "codemirror_mode": {
    "name": "ipython",
    "version": 3
   },
   "file_extension": ".py",
   "mimetype": "text/x-python",
   "name": "python",
   "nbconvert_exporter": "python",
   "pygments_lexer": "ipython3",
   "version": "3.9.13"
  }
 },
 "nbformat": 4,
 "nbformat_minor": 5
}
