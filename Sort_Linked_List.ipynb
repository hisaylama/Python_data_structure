{
 "cells": [
  {
   "cell_type": "code",
   "execution_count": 3,
   "id": "6d5e9dab-ea7c-4b5b-ae19-678a6143f6b9",
   "metadata": {},
   "outputs": [],
   "source": [
    "#We use merge sort to sort the linked list\n",
    "\n",
    "class solution:\n",
    "    def sortlist(self, head):\n",
    "        \n",
    "        if not head or not head.next: #Checking whether head is null\n",
    "            return head\n",
    "        \n",
    "        #Split the list the node in two half\n",
    "        left = head\n",
    "        right = self.getMid(head) # HOW THIS WORKS??\n",
    "        \n",
    "        tmp = right.next \n",
    "        right.next = None\n",
    "        right = tmp \n",
    "        left = self.sortList(left) \n",
    "        right = self.sortList(right)\n",
    "        \n",
    "        return self.merge(left, right)\n",
    "        \n",
    "        \n",
    "        #The mid-point using Tortoise and Hare approach\n",
    "        def getMid(self, head):\n",
    "            slow, fast = head, head.next\n",
    "            while fast and fast.next:\n",
    "                slow = slow.next\n",
    "                fast = fast.next.next\n",
    "            return slow #returns the mid value\n",
    "        \n",
    "        #Merge a two list, list1 = left and list2 = right\n",
    "        def merge(self, list1, list2):\n",
    "            tail = dummy = ListNode() #Deals with the edge case\n",
    "            while list1 and list2: #They are not empty\n",
    "                if list1.val < list2.val:\n",
    "                    tail.next = list1\n",
    "                    list1 = list1.next\n",
    "                else:\n",
    "                    tail.next = list2\n",
    "                    list2 = list2.next\n",
    "                tail = tail.next\n",
    "            if list1:\n",
    "                tail.next = list1\n",
    "            if list2:\n",
    "                tail.next = list2\n",
    "            \n",
    "            return dummy.next      \n",
    "\n",
    "#Time complexiety is O(n*logn)"
   ]
  },
  {
   "cell_type": "markdown",
   "id": "504abf0e-5b55-43e7-9446-d99b8605e3a7",
   "metadata": {},
   "source": [
    "**Merge-two-sorted-lists**\n",
    "\n",
    "- The important point is that the two Lists are sorted.\n",
    "- Add the smaller value to the end of the List\n",
    "- Add the Pointer of the added List later\n",
    "- There may be a list left at the end, so processing is required to add it\n",
    "\n",
    "**Solution**\n",
    "Input comes with the beginning of Node as follows.\n",
    "\n"
   ]
  },
  {
   "cell_type": "code",
   "execution_count": 14,
   "id": "9501668e-4b10-410f-a7e8-eb8bd4153b9e",
   "metadata": {},
   "outputs": [
    {
     "ename": "SyntaxError",
     "evalue": "invalid syntax (3895013771.py, line 1)",
     "output_type": "error",
     "traceback": [
      "\u001b[0;36m  Input \u001b[0;32mIn [14]\u001b[0;36m\u001b[0m\n\u001b[0;31m    ListNode{val: 1, next: ListNode{val: 2, next: ListNode{val: 4, next: None}}}\u001b[0m\n\u001b[0m            ^\u001b[0m\n\u001b[0;31mSyntaxError\u001b[0m\u001b[0;31m:\u001b[0m invalid syntax\n"
     ]
    }
   ],
   "source": [
    "ListNode{val: 1, next: ListNode{val: 2, next: ListNode{val: 4, next: None}}}\n",
    "ListNode{val: 1, next: ListNode{val: 3, next: ListNode{val: 4, next: None}}}"
   ]
  },
  {
   "cell_type": "code",
   "execution_count": null,
   "id": "dd2058d4-9771-4ccc-a2eb-8f83331b4a33",
   "metadata": {},
   "outputs": [],
   "source": []
  }
 ],
 "metadata": {
  "kernelspec": {
   "display_name": "Python 3 (ipykernel)",
   "language": "python",
   "name": "python3"
  },
  "language_info": {
   "codemirror_mode": {
    "name": "ipython",
    "version": 3
   },
   "file_extension": ".py",
   "mimetype": "text/x-python",
   "name": "python",
   "nbconvert_exporter": "python",
   "pygments_lexer": "ipython3",
   "version": "3.9.13"
  }
 },
 "nbformat": 4,
 "nbformat_minor": 5
}
