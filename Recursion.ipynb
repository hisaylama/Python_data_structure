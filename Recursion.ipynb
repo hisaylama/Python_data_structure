{
 "cells": [
  {
   "cell_type": "markdown",
   "id": "06ec2b54-9f53-429d-a843-3d1a8763888c",
   "metadata": {},
   "source": [
    "## Recursion\n",
    "\n",
    "base case: if n = 0 n! = 1\n",
    "\n",
    "n! = n(n-1)!\n"
   ]
  },
  {
   "cell_type": "code",
   "execution_count": 3,
   "id": "12a31889-b464-4890-842d-4b489c683804",
   "metadata": {},
   "outputs": [],
   "source": [
    "def fact(n):\n",
    "    if n == 0: #base case\n",
    "        return 1\n",
    "    else:\n",
    "        return n*fact(n-1) #recursive call"
   ]
  },
  {
   "cell_type": "code",
   "execution_count": 5,
   "id": "7766f8de-bd0e-404f-b95e-1321c0ca3709",
   "metadata": {},
   "outputs": [
    {
     "data": {
      "text/plain": [
       "120"
      ]
     },
     "execution_count": 5,
     "metadata": {},
     "output_type": "execute_result"
    }
   ],
   "source": [
    "fact(5)"
   ]
  },
  {
   "cell_type": "markdown",
   "id": "3aef3ed9-6b8a-4b79-b433-79543650cbda",
   "metadata": {},
   "source": [
    "## Examples\n",
    "\n",
    "1. Write a recursive function which takes an integer and computes the cumulative sum of 0 to that integer. \n",
    "\n",
    "For example, if n = 4, return 4+3+2+1, which is 10\n",
    "\n",
    "### Solution\n",
    "base case: n = 0 \n",
    "\n",
    "iteration: n + (n-1) + (n-2) + (n-3) + ... +0"
   ]
  },
  {
   "cell_type": "code",
   "execution_count": 19,
   "id": "9d919e66-430d-4154-affb-83db983898c8",
   "metadata": {},
   "outputs": [],
   "source": [
    "def cum_sum(n):\n",
    "    if n == 0:\n",
    "        return 0\n",
    "    else:\n",
    "        return n + cum_sum(n-1)\n"
   ]
  },
  {
   "cell_type": "code",
   "execution_count": 20,
   "id": "2f3aa69b-7359-4cf9-a82d-67131dbd70a1",
   "metadata": {},
   "outputs": [
    {
     "data": {
      "text/plain": [
       "10"
      ]
     },
     "execution_count": 20,
     "metadata": {},
     "output_type": "execute_result"
    }
   ],
   "source": [
    "cum_sum(4)"
   ]
  },
  {
   "cell_type": "markdown",
   "id": "2ee005ab-bb75-45c7-8d05-5e774bcb19ab",
   "metadata": {},
   "source": [
    "## Problem - 2\n",
    "\n",
    "Given an integer, create a function which returns the sum of all of the individual digits in that integer. For example: if n = 4321, return 4 + 3 + 2 + 2\n",
    "\n",
    "#Using modulo \n",
    "\n",
    "base function: n == 0: return n/10^0\n",
    "\n",
    "dividing integer: number of digits varying from 0 to n-1\n",
    "\n"
   ]
  },
  {
   "cell_type": "code",
   "execution_count": 37,
   "id": "6cc44604-8adf-43e5-8ae7-0bd8b704a2d7",
   "metadata": {},
   "outputs": [],
   "source": [
    "def sum_func(n):\n",
    "    #Base case\n",
    "    if len(str(n)) == 1:\n",
    "        return n\n",
    "    \n",
    "    #Recursion\n",
    "    else:\n",
    "        return (n%10 + sum_func(n//10))"
   ]
  },
  {
   "cell_type": "code",
   "execution_count": 38,
   "id": "20a12955-8c31-4993-a8ff-a8c30c01cddc",
   "metadata": {},
   "outputs": [
    {
     "data": {
      "text/plain": [
       "7"
      ]
     },
     "execution_count": 38,
     "metadata": {},
     "output_type": "execute_result"
    }
   ],
   "source": [
    "sum_func(16)"
   ]
  },
  {
   "cell_type": "markdown",
   "id": "9c0510ac-0bed-4335-8e5a-8d7e7f0d6abe",
   "metadata": {},
   "source": [
    "## Problem - 3\n",
    "\n",
    "create a word_split()\n",
    "\n",
    "Create a function called word_split() which takes in a string **phrase** and a set list_of_words. The function will then determine if its possible to split the string in a way in which words can be made from the list of words. You can assume the phrase will only contain words found in the dictionary of if it is completely splittable.\n",
    "\n",
    "For example:"
   ]
  },
  {
   "cell_type": "code",
   "execution_count": 57,
   "id": "f81b9348-9645-4f82-b470-59fe292213fa",
   "metadata": {},
   "outputs": [],
   "source": [
    "def word_split(phrase, list_of_words, output = None):\n",
    "    \n",
    "    if output is None:\n",
    "        output = []\n",
    "    \n",
    "    #For every word in list\n",
    "    for word in list_of_words:\n",
    "        #If the current phrases begins with the word, we have \n",
    "        #split the point\n",
    "        if phrase.startswith(word):\n",
    "            output.append(word)\n",
    "            return word_split(phrase[len(word):], list_of_words, output)\n",
    "        \n",
    "    return output"
   ]
  },
  {
   "cell_type": "code",
   "execution_count": 58,
   "id": "c44fa905-9826-470d-8f81-71177a27f31d",
   "metadata": {},
   "outputs": [
    {
     "data": {
      "text/plain": [
       "['the', 'man', 'ran']"
      ]
     },
     "execution_count": 58,
     "metadata": {},
     "output_type": "execute_result"
    }
   ],
   "source": [
    "word_split('themanran', ['the', 'ran', 'man'])"
   ]
  },
  {
   "cell_type": "code",
   "execution_count": 59,
   "id": "ded3dd73-f32e-4295-af59-e0b97a10d0e6",
   "metadata": {},
   "outputs": [
    {
     "data": {
      "text/plain": [
       "['i', 'love', 'dogs', 'John']"
      ]
     },
     "execution_count": 59,
     "metadata": {},
     "output_type": "execute_result"
    }
   ],
   "source": [
    "word_split('ilovedogsJohn',['i','am','a','dogs','lover','love','John'])\n"
   ]
  },
  {
   "cell_type": "code",
   "execution_count": 60,
   "id": "a80bbcaa-ea31-4139-9adc-868d1ca6956a",
   "metadata": {},
   "outputs": [
    {
     "data": {
      "text/plain": [
       "[]"
      ]
     },
     "execution_count": 60,
     "metadata": {},
     "output_type": "execute_result"
    }
   ],
   "source": [
    "word_split('themanran',['clown','ran','man'])"
   ]
  },
  {
   "cell_type": "markdown",
   "id": "6e6044d4-a2de-4751-a425-ee9a4194d41f",
   "metadata": {},
   "source": [
    "## Memoization\n",
    "\n",
    "In this lecture we will discuss memoization and dynamic programming. \n",
    "\n",
    "In computing, **memoization** is an optimization technique used primarily to speed up computer programs by storing the results of expensive function calls and returning the cached result when the same inputs occur again. Memoization has also been used in other contexts such as simple mutually recursive descent parsing.\n",
    "\n",
    "\n",
    "Memoization effectively refers to remembering (\"memoization\" -> \"memorandum\" -> to be remembered) results of methid calls based on the method inputs and returning the remebered results rather than computing the result again. You can think of it as a cache for method results. We'll use this in some of the interview problems as improved versons of a purely recursive solution. \n",
    "\n",
    "A simple example for computing factorials using memoization in Python would be something like this:"
   ]
  },
  {
   "cell_type": "code",
   "execution_count": 61,
   "id": "aa4056e5-8bd4-4a3c-91da-baa404555d1e",
   "metadata": {},
   "outputs": [],
   "source": [
    "#create cache for known results\n",
    "factorial_memo = {}\n",
    "\n",
    "def factorial(k):\n",
    "    if k < 2:\n",
    "        return 1\n",
    "    \n",
    "    if not k in factorial_memo:\n",
    "        factorial_memo[k] = k*factorial(k-1)\n",
    "        \n",
    "    return factorial_memo[k]"
   ]
  },
  {
   "cell_type": "code",
   "execution_count": 62,
   "id": "72bf9ff5-7d40-4f81-b161-f322b1cd650b",
   "metadata": {},
   "outputs": [
    {
     "data": {
      "text/plain": [
       "24"
      ]
     },
     "execution_count": 62,
     "metadata": {},
     "output_type": "execute_result"
    }
   ],
   "source": [
    "factorial(4)"
   ]
  },
  {
   "cell_type": "markdown",
   "id": "a316c54e-c75a-43d7-9b2d-b3f755a478cc",
   "metadata": {},
   "source": [
    "Note how we are now using a dictionary to store previous results of the factorial function. We are now able to increase the efficiency of thsi function by remembering old results.\n",
    "\n",
    "This trick will be useful on the coin change problem and Fibonacci sequence problem.\n",
    "_________________________________________________________________\n",
    "\n",
    "We can also encapsulate the memoization process into a class: "
   ]
  },
  {
   "cell_type": "code",
   "execution_count": 63,
   "id": "ea29f68d-308f-40fc-a752-6fccc6efa61a",
   "metadata": {},
   "outputs": [],
   "source": [
    "class Memoize:\n",
    "    def __init__(self, f):\n",
    "        self.f = f\n",
    "        self.memo = {}\n",
    "        \n",
    "    def __call__(self, *args):\n",
    "        if not args in self.memo:\n",
    "            self.memo[args] = self.f(*args)\n",
    "        return self.memo[args]"
   ]
  },
  {
   "cell_type": "code",
   "execution_count": 64,
   "id": "4ca6330f-f588-4bf0-ac9b-ca15bf3665c7",
   "metadata": {},
   "outputs": [],
   "source": [
    "def factorial(k):\n",
    "    if k<2:\n",
    "        return 1\n",
    "    \n",
    "    return k*factorial(k-1)\n",
    "\n",
    "factorial = Memoize(factorial)"
   ]
  },
  {
   "cell_type": "markdown",
   "id": "1f917e4c-10aa-45e3-8149-a2c1494a9cf6",
   "metadata": {},
   "source": [
    "## Reverse a String\n",
    "\n",
    "Use recursive method to solve the problem.\n",
    "\n",
    "## Solution\n",
    "\n",
    "In order to reverse a string recursion we need to consider what a base and recursive case would look like. Here, we've set a base case to be when the length of the string we are passing through the function is less than or equal to 1.\n",
    "\n",
    "During the recursive case we grab the first letter and add it on to the recursive call.\n",
    "\n",
    "**Itertools**: library in python useful for reversion."
   ]
  },
  {
   "cell_type": "code",
   "execution_count": 109,
   "id": "8b640365-816c-4553-96d6-803fd5292d3e",
   "metadata": {},
   "outputs": [],
   "source": [
    "def permute(s):\n",
    "    out = []\n",
    "    #base case\n",
    "    if len(s) == 1:\n",
    "        out = [s]  \n",
    "    else:\n",
    "        #for every letter in string \n",
    "        for i, let in enumerate(s):\n",
    "            #For every permutation resulting from step-2 and step-3\n",
    "            for perm in permute(s[:i] + s[i+1:]): \n",
    "                #print('Current letter is:', let)\n",
    "                #print('perm is',perm)\n",
    "                #Add it to the output\n",
    "                out += [let + perm]  \n",
    "    return out"
   ]
  },
  {
   "cell_type": "code",
   "execution_count": 110,
   "id": "62134db7-5171-4e90-9868-ac59e54c1fcd",
   "metadata": {},
   "outputs": [
    {
     "data": {
      "text/plain": [
       "['abc', 'acb', 'bac', 'bca', 'cab', 'cba']"
      ]
     },
     "execution_count": 110,
     "metadata": {},
     "output_type": "execute_result"
    }
   ],
   "source": [
    "permute('abc')"
   ]
  },
  {
   "cell_type": "code",
   "execution_count": 111,
   "id": "06b84630-5cd8-4cf1-b39e-77d2df897c22",
   "metadata": {},
   "outputs": [],
   "source": [
    "def reverse(s):\n",
    "    #Base case \n",
    "    if len(s) <= 1:\n",
    "        return s\n",
    "    \n",
    "    #Recursion \n",
    "    return reverse(s[1:]) + s[0]"
   ]
  },
  {
   "cell_type": "code",
   "execution_count": 112,
   "id": "422b9453-8d8d-4dd3-9c00-e4842e878ea3",
   "metadata": {},
   "outputs": [
    {
     "data": {
      "text/plain": [
       "'cba'"
      ]
     },
     "execution_count": 112,
     "metadata": {},
     "output_type": "execute_result"
    }
   ],
   "source": [
    "reverse('abc')"
   ]
  },
  {
   "cell_type": "code",
   "execution_count": 113,
   "id": "872b8dfe-0e7c-496b-b356-c61d7e4d2354",
   "metadata": {},
   "outputs": [
    {
     "name": "stdout",
     "output_type": "stream",
     "text": [
      "Passed all test cases!\n"
     ]
    }
   ],
   "source": [
    "from nose.tools import assert_equal\n",
    "\n",
    "class TestReverse(object):\n",
    "    def test_rev(self,solution):\n",
    "        assert_equal(solution('hello'), 'olleh' )\n",
    "        assert_equal(solution('hello world'), 'dlrow olleh')\n",
    "        assert_equal(solution('123456789'), '987654321')\n",
    "    \n",
    "        print('Passed all test cases!')\n",
    "        \n",
    "#Run test\n",
    "test = TestReverse()\n",
    "test.test_rev(reverse)"
   ]
  },
  {
   "cell_type": "markdown",
   "id": "e308561d-b66d-4461-a853-a864bfe4ff66",
   "metadata": {},
   "source": [
    "## String Permutation\n",
    "\n",
    "### Problem statement\n",
    "\n",
    "Given a string, write a function that uses recursion to output a list of all the possible permutations of that string.\n",
    "\n",
    "For example, given s = 'abc', the function should return ['abc', 'acb', 'bac', 'bca', 'cab']\n",
    "\n",
    "Note: If a character is repeated, treat each occurence as distinct."
   ]
  },
  {
   "cell_type": "code",
   "execution_count": 114,
   "id": "c8b535e7-87b6-4db7-b793-eaa1b9cdf414",
   "metadata": {},
   "outputs": [],
   "source": [
    "def permute(s):\n",
    "    out = []\n",
    "    #base case \n",
    "    if len(s) == 1:\n",
    "        out = [s]\n",
    "    else:\n",
    "        #for every letter in string\n",
    "        for i, let in enumerate(s):\n",
    "            \n",
    "            #for every permutation from step 2 and step 3\n",
    "            for perm in permute(s[:i] + s[i+1:]):\n",
    "                \n",
    "                #Add it to output\n",
    "                out += [let + perm]\n",
    "    return out"
   ]
  },
  {
   "cell_type": "code",
   "execution_count": 137,
   "id": "4bee8f31-ef38-4d21-bdbf-3b5ac4430a10",
   "metadata": {},
   "outputs": [
    {
     "name": "stdout",
     "output_type": "stream",
     "text": [
      "All test cases passed.\n"
     ]
    }
   ],
   "source": [
    "\"\"\"\n",
    "RUN THIS CELL TO TEST YOUR SOLUTION.\n",
    "\"\"\"\n",
    "\n",
    "from nose.tools import assert_equal\n",
    "\n",
    "class TestPerm(object):\n",
    "    \n",
    "    def test(self,solution):\n",
    "        \n",
    "        assert_equal(sorted(solution('abc')),sorted(['abc', 'acb', 'bac', 'bca', 'cab', 'cba']))\n",
    "        assert_equal(sorted(solution('dog')),sorted(['dog', 'dgo', 'odg', 'ogd', 'gdo', 'god']) )\n",
    "        \n",
    "        print('All test cases passed.')\n",
    "\n",
    "# Run Tests\n",
    "t = TestPerm()\n",
    "t.test(permute)"
   ]
  },
  {
   "cell_type": "markdown",
   "id": "e4341b19-2691-4241-81be-9eb6c997d9dc",
   "metadata": {},
   "source": [
    "## The function call stack\n",
    "\n"
   ]
  },
  {
   "cell_type": "code",
   "execution_count": 71,
   "id": "d24d4789-733c-48c6-b4a4-09f78f24bd9d",
   "metadata": {},
   "outputs": [
    {
     "name": "stdout",
     "output_type": "stream",
     "text": [
      "15\n"
     ]
    }
   ],
   "source": [
    "def f(k):\n",
    "    var = k**2\n",
    "    return g(k+1) + var\n",
    "\n",
    "def g(k):\n",
    "    var = k + 1\n",
    "    return var + 1\n",
    "\n",
    "print(f(3))"
   ]
  },
  {
   "cell_type": "markdown",
   "id": "15dc170d-ee63-4534-99cd-de27418d47b4",
   "metadata": {},
   "source": [
    "## The Fibonacci Sequence\n",
    "\n",
    "Implement Fibonacci sequence in three different ways:\n",
    "- Recursively \n",
    "- Dynamically\n",
    "- Iteratively \n",
    "\n",
    "The Fibonacci sequence looks like follows: 1, 1, 2, 3, 5, 8, ... starts off with the base case checking to see if n = 0 or 1, then it returns 1.\n",
    "\n",
    "Else it returns fib(n-1) + fib(n-2).\n",
    "\n"
   ]
  },
  {
   "cell_type": "code",
   "execution_count": 131,
   "id": "a10888ea-c8e2-4e16-af56-ce713b51732b",
   "metadata": {},
   "outputs": [],
   "source": [
    "#Iterative solution\n",
    "\n",
    "def fib_iter(n):\n",
    "    a, b = 0,1\n",
    "    for i in range(n):\n",
    "        print('Initial value', a,b)\n",
    "        a, b = b, a + b\n",
    "        print('Terminal value', a,b)\n",
    "    return a"
   ]
  },
  {
   "cell_type": "code",
   "execution_count": 134,
   "id": "3e1ad795-ce7e-4527-997a-9b55dd522620",
   "metadata": {},
   "outputs": [],
   "source": [
    "#Recursive method\n",
    "def fib_rec(n):\n",
    "    #base case\n",
    "    if n == 0 or n == 1:\n",
    "        return n\n",
    "    #Recursive case\n",
    "    \n",
    "    else:\n",
    "        return fib_rec(n-1) + fib_rec(n-2)"
   ]
  },
  {
   "cell_type": "code",
   "execution_count": 135,
   "id": "9adde7b0-c370-4419-9700-7b2eb211f022",
   "metadata": {},
   "outputs": [
    {
     "data": {
      "text/plain": [
       "55"
      ]
     },
     "execution_count": 135,
     "metadata": {},
     "output_type": "execute_result"
    }
   ],
   "source": [
    "fib_rec(10)"
   ]
  },
  {
   "cell_type": "code",
   "execution_count": 138,
   "id": "27e392cb-20eb-4f23-8b70-08c688e074e6",
   "metadata": {},
   "outputs": [],
   "source": [
    "#Dynamic programming (Memoization)\n",
    "\n",
    "#Cache \n",
    "n = 10\n",
    "cache = [None] * (n+1)\n",
    "\n",
    "def fib_dyn(n):\n",
    "    #base case\n",
    "    \n",
    "    if n == 0 or n == 1:\n",
    "        return n \n",
    "    \n",
    "    #check cache\n",
    "    \n",
    "    if cache[n] != None:\n",
    "        return cache[n]\n",
    "    \n",
    "    #Keep setting cache\n",
    "    \n",
    "    cache[n] = fib_dyn[n-1] + fib_dyn[n-2]\n",
    "     \n",
    "    return cache[n]\n"
   ]
  },
  {
   "cell_type": "code",
   "execution_count": null,
   "id": "043703c2-b569-49d4-a796-dcaf36d335a7",
   "metadata": {},
   "outputs": [],
   "source": []
  }
 ],
 "metadata": {
  "kernelspec": {
   "display_name": "Python 3 (ipykernel)",
   "language": "python",
   "name": "python3"
  },
  "language_info": {
   "codemirror_mode": {
    "name": "ipython",
    "version": 3
   },
   "file_extension": ".py",
   "mimetype": "text/x-python",
   "name": "python",
   "nbconvert_exporter": "python",
   "pygments_lexer": "ipython3",
   "version": "3.9.13"
  }
 },
 "nbformat": 4,
 "nbformat_minor": 5
}
