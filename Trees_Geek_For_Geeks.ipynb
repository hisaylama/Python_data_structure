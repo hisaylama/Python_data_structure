{
 "cells": [
  {
   "cell_type": "markdown",
   "id": "9f5d9292-54db-4030-b389-484ecd8d9dbe",
   "metadata": {},
   "source": [
    "## Trees\n",
    "\n",
    "A **Tree** is a data type that is ideal for representing hierarchial structure. Trees are composed of **nodes** and nodes have 0 or more **children** or **child nodes**. A node is called the parent of its children. Each node has (at most) one parent. If the children are ordered in soe way, then we have an ordered tree. We are concerned primamrily with rooted trees, i.e. ordered treees, i.e., there is a single special node called the **root** of the tree. The root is the only node that has no parents. The roots that do not have childrens are called leaf nodes.   "
   ]
  },
  {
   "cell_type": "code",
   "execution_count": 2,
   "id": "6db93a11-2918-4b05-bfdc-4ab52daec2c4",
   "metadata": {},
   "outputs": [],
   "source": [
    "T = ['c', ['a', ['p'], ['n'], ['t']], ['o', ['n']]]"
   ]
  },
  {
   "cell_type": "code",
   "execution_count": 4,
   "id": "c6a0f8a4-6831-4796-ac87-227c431e7a29",
   "metadata": {},
   "outputs": [
    {
     "name": "stdout",
     "output_type": "stream",
     "text": [
      "c\n",
      "a\n",
      "p\n",
      "n\n",
      "t\n",
      "o\n",
      "n\n"
     ]
    }
   ],
   "source": [
    "def print_tree(T):\n",
    "    print(T[0])\n",
    "    for child in range(1, len(T)):\n",
    "        print_tree(T[child])\n",
    "        \n",
    "print_tree(T)"
   ]
  },
  {
   "cell_type": "code",
   "execution_count": 5,
   "id": "01574d1e-4338-4044-9e59-1427bb205620",
   "metadata": {},
   "outputs": [
    {
     "name": "stdout",
     "output_type": "stream",
     "text": [
      "c\n",
      "a\n",
      "p\n",
      "n\n",
      "t\n",
      "o\n",
      "n\n"
     ]
    }
   ],
   "source": [
    "def print_tree(T):\n",
    "    iterator = iter(T)\n",
    "    print(next(iterator))\n",
    "    \n",
    "    for child in iterator:\n",
    "        print_tree(child)\n",
    "        \n",
    "print_tree(T)"
   ]
  },
  {
   "cell_type": "markdown",
   "id": "01b661f5-1ea6-4a9c-8f01-160e6d8e2b17",
   "metadata": {},
   "source": [
    "Here we use the iterator to extract the first list item, then loop through the rest of the children. So when we got to the for loop, the iterator has alreeady yielded the first value and it will start with the second, i.e., the first child."
   ]
  },
  {
   "cell_type": "markdown",
   "id": "79de375b-e37c-4572-b18d-69c6df1a4aeb",
   "metadata": {},
   "source": [
    "### The abstract data type (ADT) is as follows:\n",
    "- __init__(L): Initialize a new tree give a list of lists. The convention is that the first element in the list is the data and later elements(if they exists) are the chidlren.\n",
    "\n",
    "- height(): Return the height of the tree.\n",
    "\n",
    "- __str__(): Return a string representing the entire tree.\n",
    "\n",
    "- _eq_(other): Return True if tree is equal to other. This means that they have the same data and their children are equal (and in the same order).\n",
    "\n",
    "- __contains__(k): Return True if and only if the tree contains the data *k* either at the root or at one of its descendents. Return False otherwise.\n",
    "\n",
    "- preorder(): Return an iterator over the data in the tree yields values according to the **postorder** traversal of the tree.\n",
    "\n",
    "- postorder(): Return an iterator over the data in the tree that yields values according to the **postorder** traversal of the tree.\n",
    "\n",
    "- __iter__(): An alias of preorder\n",
    "\n",
    "- layorder(): Return an iterator over the data in the tree that yields values according to the **layer order** traversal of the tree.\n"
   ]
  },
  {
   "cell_type": "code",
   "execution_count": 11,
   "id": "e1b9ee75-7864-4b91-9903-d97a7e85636c",
   "metadata": {},
   "outputs": [],
   "source": [
    "class Tree:\n",
    "    def __init__(self, L):\n",
    "        iterator = iter(L)\n",
    "        self.data = next(iterator)\n",
    "        self.children = [Tree(index) for index in iterator]"
   ]
  },
  {
   "cell_type": "markdown",
   "id": "b5410dd1-8ffa-48bd-b471-0e79e2fe90b5",
   "metadata": {},
   "source": [
    "The initializer takes a *list* of *lists* representation of a tree as input. A `Tree` object has two attributes, `data` stores data associated with a node and `children` stores a list of `Tree` objects. The recursive aspect of this tree is clear from the way the children are generated as `Tree's`. This definition does not allow for an empty tree (i.e., onw with no nodes)."
   ]
  },
  {
   "cell_type": "code",
   "execution_count": 14,
   "id": "6eb8c192-d8d7-4b0e-b80c-26099dc4cb81",
   "metadata": {},
   "outputs": [],
   "source": [
    "#Print the tree\n",
    "def printtree(T):\n",
    "    print(T.data)\n",
    "    \n",
    "    for child in T.children:\n",
    "        print_tree(child)"
   ]
  },
  {
   "cell_type": "code",
   "execution_count": 16,
   "id": "d4da8bd7-5c2d-4efd-99f5-774d099b8984",
   "metadata": {},
   "outputs": [
    {
     "name": "stdout",
     "output_type": "stream",
     "text": [
      "c\n",
      "a\n",
      "p\n",
      "n\n",
      "t\n",
      "o\n",
      "n\n"
     ]
    }
   ],
   "source": [
    "T = Tree(['c', ['a', ['p'], ['n'], ['t']], ['o', ['n']]])\n",
    "printtree(T)"
   ]
  },
  {
   "cell_type": "markdown",
   "id": "7ec69079-6ba3-4f05-8d16-d11d5bdf8099",
   "metadata": {},
   "source": [
    "This is most common pattern of algorithms that operates on trees. It has two parts; \n",
    "- one part operates on the data and \n",
    "- other part applies the function recursively on the children.\n",
    "\n",
    "One unfortunate aspect of this code is that although it prints our the data, it doesn't tells us about the structure fo tree. It would be nicer if we use indentation to indicate the depth of the node as we print the data. It turns out that this is not too difficult and we will implement it as our __str__method."
   ]
  },
  {
   "cell_type": "code",
   "execution_count": 23,
   "id": "52074e16-f0e0-4f5a-9293-164dbea4acd5",
   "metadata": {},
   "outputs": [],
   "source": [
    "def __str__(self, level = 0):\n",
    "    treestring = \"  \"  *  level + str(self.data)\n",
    "    \n",
    "    for child in self.children:\n",
    "        treestring += \"\\n\" + child.__str__(level + 1)\n",
    "    return treestring"
   ]
  },
  {
   "cell_type": "code",
   "execution_count": 25,
   "id": "0cf3a9ec-e687-42ff-a68a-0c26a2887468",
   "metadata": {},
   "outputs": [
    {
     "name": "stdout",
     "output_type": "stream",
     "text": [
      "<__main__.Tree object at 0x7fcb37573a30>\n"
     ]
    }
   ],
   "source": [
    "T = Tree(['c', ['a', ['p'], ['n'], ['t']], ['o', ['n']]])\n",
    "print(str(T))"
   ]
  },
  {
   "cell_type": "code",
   "execution_count": 26,
   "id": "a92c845c-a870-4b84-9704-2427726f959c",
   "metadata": {},
   "outputs": [
    {
     "name": "stdout",
     "output_type": "stream",
     "text": [
      "<__main__.Tree object at 0x7fcb375821f0>\n"
     ]
    }
   ],
   "source": [
    "def _listwithlevels(self, level, tree):\n",
    "    trees.append(\" \" *level + str(self.data))\n",
    "    \n",
    "    for child in self.children:\n",
    "        child._listwithlevels(level + 1, trees)\n",
    "        \n",
    "def __str__(self):\n",
    "    trees = []\n",
    "    self._listwithlevels(0, trees)\n",
    "    return \"\\n\". join(trees)\n",
    "\n",
    "T = Tree(['c', ['a', ['p'], ['n'], ['t']], ['o', ['n']]])\n",
    "print(str(T))"
   ]
  },
  {
   "cell_type": "markdown",
   "id": "c39d12c4-973b-40ac-9f17-a98723d6b8e9",
   "metadata": {},
   "source": [
    "## Tree reversal \n",
    "\n",
    "Previously, all the collections we stored were either sequential (i.e., `list`, `tuple`, and `str`) or non-sequential (i.e., `dict` and `set`). The tree structure seems to lie somewhere between two. There is some structure, but its not linear. We can give it a linear (sequential) structure by iterating through all the nodes in the tree, but there is not a unique way to do this. For trees, the process of visiting all the nodes is called **tree reversal**. For ordered trees, there are two standard traversals, called **preorder** and **postorder**, and both are naturally defined recursively.\n",
    "\n",
    "In a preorder traversal, we visit the node first followed by the traversal of its children. In a postorder traversal, we traverse all the children and then visit the node itself. The *visit* refers to whatever computation we want to do with the nodes. We could also post print the nodes in a postorder traversal as follows:"
   ]
  },
  {
   "cell_type": "code",
   "execution_count": 27,
   "id": "81491f57-9337-46c1-8572-dddbed376cba",
   "metadata": {},
   "outputs": [],
   "source": [
    "def printpostorder(T):\n",
    "    for child in self.children:\n",
    "        printpostoder(child)\n",
    "    print(T.data)"
   ]
  },
  {
   "cell_type": "markdown",
   "id": "726a7be6-351f-4e6b-bc7f-a9be667846fe",
   "metadata": {},
   "source": [
    "### If we get fancy ...\n",
    "\n",
    "It was considered a great achievement in Python to be able to do this kind of traversal with a generator. Recursive generators seems a littel mysterious, especially at first. However, if you break down this code and walk through it by hand, it will help you have a better understanding of how generators work.\n",
    "\n"
   ]
  },
  {
   "cell_type": "code",
   "execution_count": 29,
   "id": "28ab68c5-eee3-41c1-95b2-33a3918d5977",
   "metadata": {},
   "outputs": [],
   "source": [
    "def preorder(self):\n",
    "    yield self.data\n",
    "        \n",
    "    for child in self.children:\n",
    "        for data in child.preorder():\n",
    "            yield data\n",
    "            \n",
    "#Set __iter__ to be an alias for preorder\n",
    "__iter__ = preorder\n"
   ]
  },
  {
   "cell_type": "markdown",
   "id": "dc98ba3d-4b79-4862-894e-efb23c6bc120",
   "metadata": {},
   "source": [
    "You can also do this over the trees (i,e., nodes). I have made this one private because the user of the tree likely does not want or need access to the nodes."
   ]
  },
  {
   "cell_type": "code",
   "execution_count": 31,
   "id": "e1b538c1-08f9-40c8-a32b-2a4d2f73e549",
   "metadata": {},
   "outputs": [],
   "source": [
    "def _preorder(self):\n",
    "    yield self\n",
    "    \n",
    "    for child in self.children:\n",
    "        for descendent in child._preorder():\n",
    "            yield descendent"
   ]
  },
  {
   "cell_type": "markdown",
   "id": "5f39736a",
   "metadata": {},
   "source": [
    "### Trees_Geek_For_Geeks"
   ]
  },
  {
   "cell_type": "code",
   "execution_count": 5,
   "id": "41014c3c",
   "metadata": {},
   "outputs": [
    {
     "name": "stdout",
     "output_type": "stream",
     "text": [
      "The parents of each node are:\n",
      "1 ->Root\n",
      "2 -> 1\n",
      "5 -> 2\n",
      "6 -> 2\n",
      "3 -> 1\n",
      "4 -> 1\n",
      "7 -> 4\n",
      "The children of each node are:\n",
      "1 -> 2   3   4   \n",
      "\n",
      "2 -> 5   6   \n",
      "\n",
      "3 -> \n",
      "\n",
      "4 -> 7   \n",
      "\n",
      "5 -> \n",
      "\n",
      "6 -> \n",
      "\n",
      "7 -> \n",
      "\n",
      "The leaf nodes of the tree are:\n",
      "3 5 6 7 \n",
      "\n",
      "The degrees of each node are:\n",
      "1 :  3\n",
      "2 :  2\n",
      "3 :  0\n",
      "4 :  1\n",
      "5 :  0\n",
      "6 :  0\n",
      "7 :  0\n"
     ]
    }
   ],
   "source": [
    "#Function to add an edge between vertices x and y\n",
    "\n",
    "#Function to print the parent of each node\n",
    "def printParents(node, adj, parent):\n",
    "    #current node is root, thus, has no parent\n",
    "    if (parent == 0):\n",
    "        print(node, \"->Root\")\n",
    "    else:\n",
    "        print(node, \"->\", parent)\n",
    "        \n",
    "    #Using DFS\n",
    "    for cur in adj[node]:\n",
    "        if (cur!= parent):\n",
    "            printParents(cur, adj, node)\n",
    "            \n",
    "#Function to print the children of each node\n",
    "def printChildren(Root, adj):\n",
    "    #Queue for the BFS\n",
    "    q = []\n",
    "    \n",
    "    #pushing the root\n",
    "    q.append(Root)\n",
    "    \n",
    "    #Visit array to keep track of nodes that have already visited\n",
    "    #Visited\n",
    "    \n",
    "    vis = [0]*len(adj)\n",
    "    \n",
    "    #BFS\n",
    "    while (len(q) > 0):\n",
    "        node = q[0]\n",
    "        q.pop(0)\n",
    "        vis[node] = 1\n",
    "        \n",
    "        print(node, \"->\", end = \" \")\n",
    "        \n",
    "        for cur in adj[node]:\n",
    "            if (vis[cur] == 0):\n",
    "                print(cur, \" \", end= \" \")\n",
    "                q.append(cur)\n",
    "        print(\"\\n\")\n",
    "        \n",
    "#Function to print the leaf nodes\n",
    "\n",
    "def printLeafNodes(Root, adj):\n",
    "    \n",
    "    #Leaf nodes have only one edge and are not the root\n",
    "    \n",
    "    for i in range(0, len(adj)):\n",
    "        if (len(adj[i]) == 1 and i != Root):\n",
    "            print(i, end=\" \")\n",
    "    print(\"\\n\")\n",
    "    \n",
    "#Function to print the degree of each node\n",
    "\n",
    "def printDegrees(Root, adj):\n",
    "    \n",
    "    for i in range(1, len(adj)):\n",
    "        print(i, \": \", end= \" \")\n",
    "        \n",
    "        #Root has no parent, thus, its degree is equal to \n",
    "        #the edges it is connected to\n",
    "        \n",
    "        if (i == Root):\n",
    "            print(len(adj[i]))\n",
    "        else:\n",
    "            print(len(adj[i]) - 1)\n",
    "            \n",
    "#Driver code\n",
    "\n",
    "#Number of nodes\n",
    "N = 7\n",
    "Root = 1\n",
    "\n",
    "#Adjacency list to store the tree\n",
    "adj = []\n",
    "for i in range(0, N + 1):\n",
    "    adj.append([])\n",
    "    \n",
    "# Creating the tree\n",
    "adj[1].append(2)\n",
    "adj[2].append(1)\n",
    "  \n",
    "adj[1].append(3)\n",
    "adj[3].append(1)\n",
    "  \n",
    "adj[1].append(4)\n",
    "adj[4].append(1)\n",
    "  \n",
    "adj[2].append(5)\n",
    "adj[5].append(2)\n",
    "  \n",
    "adj[2].append(6)\n",
    "adj[6].append(2)\n",
    "  \n",
    "adj[4].append(7)\n",
    "adj[7].append(4)\n",
    "  \n",
    "# Printing the parents of each node\n",
    "print(\"The parents of each node are:\")\n",
    "printParents(Root, adj, 0)\n",
    "  \n",
    "# Printing the children of each node\n",
    "print(\"The children of each node are:\")\n",
    "printChildren(Root, adj)\n",
    "  \n",
    "# Printing the leaf nodes in the tree\n",
    "print(\"The leaf nodes of the tree are:\")\n",
    "printLeafNodes(Root, adj)\n",
    "  \n",
    "# Printing the degrees of each node\n",
    "print(\"The degrees of each node are:\")\n",
    "printDegrees(Root, adj)\n",
    "    "
   ]
  },
  {
   "cell_type": "code",
   "execution_count": null,
   "id": "73ef82ce",
   "metadata": {},
   "outputs": [],
   "source": [
    "Result =[]\n",
    "scorelist = []\n",
    "if __name__ == '__main__':\n",
    "    for _ in range(int(input())):\n",
    "        name = input()\n",
    "        score = float(input())\n",
    "        Result+=[[name,score]]\n",
    "        scorelist+=[score]\n",
    "    b=sorted(list(set(scorelist)))[1] \n",
    "    for a,c in sorted(Result):\n",
    "        if c==b:\n",
    "            print(a)"
   ]
  }
 ],
 "metadata": {
  "kernelspec": {
   "display_name": "Python 3 (ipykernel)",
   "language": "python",
   "name": "python3"
  },
  "language_info": {
   "codemirror_mode": {
    "name": "ipython",
    "version": 3
   },
   "file_extension": ".py",
   "mimetype": "text/x-python",
   "name": "python",
   "nbconvert_exporter": "python",
   "pygments_lexer": "ipython3",
   "version": "3.9.13"
  }
 },
 "nbformat": 4,
 "nbformat_minor": 5
}
