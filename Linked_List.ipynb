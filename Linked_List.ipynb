{
 "cells": [
  {
   "cell_type": "markdown",
   "id": "c14195c9-66f6-4ebe-bf2b-1c5dd400c250",
   "metadata": {},
   "source": [
    "*The snippet is taken from Dhaval Patel's youtube lecture on linked list*"
   ]
  },
  {
   "cell_type": "raw",
   "id": "088a0036-e14a-4137-b6e8-8c7cd30fee77",
   "metadata": {},
   "source": [
    "class Node:\n",
    "    def __init__(self, data = None, next = None):\n",
    "        self.data = data #data\n",
    "        self.next = next #pointer to next element\n",
    "\n",
    "class LinkedList: #pointing the head of the linked list\n",
    "    def __init__(self):\n",
    "        self.head = head\n",
    "     \n",
    "    #taking the data value and inserting it to begining of linked list\n",
    "    def insert_at_beginging(self, data):\n",
    "        node = Node(data, self.head)\n",
    "        self.head = node\n",
    "    \n",
    "    def print(self):\n",
    "        if self.head is None:\n",
    "            print(\"Linked list is empty\")\n",
    "            return\n",
    "        \n",
    "        itr = self.head\n",
    "        listr = ''\n",
    "        while itr:\n",
    "            itr += str(itr.data) + '-->'\n",
    "            itr = itr.next\n",
    "        print(listr)\n",
    "        \n",
    "if __name__ = '__manin__'       \n",
    " "
   ]
  },
  {
   "cell_type": "markdown",
   "id": "7b60b8a9-6b80-4d7b-8c63-7d49461f45dd",
   "metadata": {},
   "source": [
    "## Linked Lists\n",
    "\n",
    "In this lecture we will get a brief overview of what we learn on the Linked lists\n",
    "\n",
    "Following topics will be covered:\n",
    " - Single Linked Lists\n",
    " - Implementing a Single Linked Lists\n",
    " - Doubly Linked Lists\n",
    " - Linked Lists Interview Problems"
   ]
  },
  {
   "cell_type": "markdown",
   "id": "bacd7f06-cdd6-4bd2-95fa-e238ad0b2e51",
   "metadata": {},
   "source": [
    "## Singly Linked Lists Implementation\n",
    "In this lecture, we will implement a basic Singly Linked List\n",
    "\n",
    "Remember, in a singly linked list, we have an ordered list as individual nodes that have pointer to other nodes.\n",
    "\n"
   ]
  },
  {
   "cell_type": "code",
   "execution_count": 12,
   "id": "ffff64a1-4afb-44c2-9f49-4ac228f3169e",
   "metadata": {},
   "outputs": [],
   "source": [
    "class Node(object):\n",
    "    \n",
    "    def __init__(self, value):\n",
    "        self.value = value\n",
    "        self.nextnode = None\n",
    "        "
   ]
  },
  {
   "cell_type": "code",
   "execution_count": 13,
   "id": "e45d8e59-8658-4f6b-ad93-30d22db16700",
   "metadata": {},
   "outputs": [],
   "source": [
    "a = Node(1)\n",
    "b = Node(2)\n",
    "c = Node(3)"
   ]
  },
  {
   "cell_type": "code",
   "execution_count": 14,
   "id": "b7e97265-ad13-46e5-9d9f-2f492bd26bf1",
   "metadata": {},
   "outputs": [],
   "source": [
    "a.nextnode = b\n",
    "b.nextnode = c"
   ]
  },
  {
   "cell_type": "code",
   "execution_count": 15,
   "id": "d87b9a77-acea-487b-9964-7fe2a6670557",
   "metadata": {},
   "outputs": [
    {
     "data": {
      "text/plain": [
       "1"
      ]
     },
     "execution_count": 15,
     "metadata": {},
     "output_type": "execute_result"
    }
   ],
   "source": [
    "a.value"
   ]
  },
  {
   "cell_type": "code",
   "execution_count": 16,
   "id": "589986ff-1f8c-44fc-9d6a-43da3ca509b6",
   "metadata": {},
   "outputs": [
    {
     "data": {
      "text/plain": [
       "2"
      ]
     },
     "execution_count": 16,
     "metadata": {},
     "output_type": "execute_result"
    }
   ],
   "source": [
    "a.nextnode.value"
   ]
  },
  {
   "cell_type": "markdown",
   "id": "68ce0345-cf83-44f1-bb51-913dfc984f33",
   "metadata": {},
   "source": [
    "In the linked lists the first node is called the head and last node is called the tail. "
   ]
  },
  {
   "cell_type": "markdown",
   "id": "90d27d8a-d4fb-4963-b6fc-06f3db264701",
   "metadata": {},
   "source": [
    "## Doubly Linked List Implementation"
   ]
  },
  {
   "cell_type": "code",
   "execution_count": 17,
   "id": "79c88bb8-0108-419d-9fba-96da014d9e52",
   "metadata": {},
   "outputs": [],
   "source": [
    "class DoublyLinkedListNode(object):\n",
    "    \n",
    "    def __init__(self, value):\n",
    "        self.value = value\n",
    "        self.next_node = None\n",
    "        self.prev_node = None"
   ]
  },
  {
   "cell_type": "markdown",
   "id": "8e5e17f7-e03f-485d-936c-f77740dfe616",
   "metadata": {},
   "source": [
    "Now that we have our node that can reference next and prvious values, let's begin to build out Linked list"
   ]
  },
  {
   "cell_type": "code",
   "execution_count": 19,
   "id": "26e1ad74-0f74-4f8e-8620-b2fc1fc1b42a",
   "metadata": {},
   "outputs": [],
   "source": [
    "a = DoublyLinkedListNode(1)\n",
    "b = DoublyLinkedListNode(2)\n",
    "c = DoublyLinkedListNode(3)"
   ]
  },
  {
   "cell_type": "code",
   "execution_count": 20,
   "id": "77680495-fda0-4eba-9a83-37ff9e3f4f04",
   "metadata": {},
   "outputs": [],
   "source": [
    "#Setting b after a\n",
    "b.prev_node = a\n",
    "a.next_node = b"
   ]
  },
  {
   "cell_type": "code",
   "execution_count": 21,
   "id": "b995e65e-c0d7-4dc3-95a7-2dbd1c930c1c",
   "metadata": {},
   "outputs": [],
   "source": [
    "#Setting c after a\n",
    "b.next_node = c\n",
    "c.prev_node = b"
   ]
  },
  {
   "cell_type": "code",
   "execution_count": 22,
   "id": "4b1a848f-978a-4444-af72-55d80e4e7664",
   "metadata": {},
   "outputs": [
    {
     "data": {
      "text/plain": [
       "2"
      ]
     },
     "execution_count": 22,
     "metadata": {},
     "output_type": "execute_result"
    }
   ],
   "source": [
    "b.value"
   ]
  },
  {
   "cell_type": "code",
   "execution_count": 24,
   "id": "e48c265d-992b-444e-9577-c93ec4c7317d",
   "metadata": {},
   "outputs": [
    {
     "name": "stdout",
     "output_type": "stream",
     "text": [
      "[<__main__.DoublyLinkedListNode object at 0x7f9795496d30>, <__main__.DoublyLinkedListNode object at 0x7f9795496d00>, <__main__.DoublyLinkedListNode object at 0x7f9795496b80>]\n"
     ]
    }
   ],
   "source": [
    "print([a,b,c])"
   ]
  },
  {
   "cell_type": "markdown",
   "id": "0240bc0d-589b-454c-9d9d-663548ee1c95",
   "metadata": {},
   "source": [
    "## Singly Linked List Cycle Check\n",
    "\n",
    "### Problem\n",
    "\n",
    "Given a singly linked list, write a function which takes in the first node in a singly linked list and returns a boolean indicating if the linked list contains a \"cycle\".\n",
    "\n",
    "A cycle is when a node's next point actually points back to a previous node in the list. This is also sometimes known as a circularly linked list. \n",
    "\n",
    "You've been given the Linked List Node class code:"
   ]
  },
  {
   "cell_type": "code",
   "execution_count": 25,
   "id": "ba6cfd8f-b1d0-4d17-b204-0bd1686ad150",
   "metadata": {},
   "outputs": [],
   "source": [
    "class Node(object):\n",
    "    \n",
    "    def __init__(self,value):\n",
    "        self.value = value\n",
    "        self.nextnode = None"
   ]
  },
  {
   "cell_type": "markdown",
   "id": "169d2aa5-b09f-49d0-a67d-97b5705491d0",
   "metadata": {},
   "source": [
    "## Solution\n",
    "To solve this problem we will have two markers traversing through list. **marker1** and **marker2**. We will have both marker begin at the first node of the list and traverse through the linked list. However, the second marker, marker2, we will move two nodes ahead for every one node that marker1 moves.\n",
    "\n",
    "By this logic we can imagine that the markers are racing through the linked list, with marker2 moving faster. If the linked list has a cycle and is circularly connected we will have the analogy of a track, in this case the marker2 will eventually be \"lapping\" then marker1 and they will equal each other.\n",
    "\n",
    "If the linked list has no cycle, the marker2 should be able to continue on untill very end, never equally the first marker. \n",
    "\n",
    "\n",
    "Let's see this logic coded out."
   ]
  },
  {
   "cell_type": "code",
   "execution_count": 32,
   "id": "b7559688-bde3-437d-9fbe-e370bbdd1192",
   "metadata": {},
   "outputs": [],
   "source": [
    "def cycle_check(node):\n",
    "    \n",
    "    #Begin both markers at the first node\n",
    "    marker1 = node\n",
    "    marker2 = node\n",
    "    \n",
    "    #Go until end of list\n",
    "    while marker2 != None and marker2.nextnode != None:\n",
    "        #Note\n",
    "        marker1 = marker1.nextnode\n",
    "        marker2 = marker2.nextnode.nextnode\n",
    "        \n",
    "        #Check if the markers have matched\n",
    "        if marker2 == marker1:\n",
    "            return True\n",
    "        \n",
    "        #Case where marker ahead reaches the end of the list\n",
    "        \n",
    "    return False"
   ]
  },
  {
   "cell_type": "code",
   "execution_count": 36,
   "id": "c111f4c5-b87d-4a64-8728-933fe257283f",
   "metadata": {},
   "outputs": [
    {
     "data": {
      "text/plain": [
       "False"
      ]
     },
     "execution_count": 36,
     "metadata": {},
     "output_type": "execute_result"
    }
   ],
   "source": [
    "#Intializing the nodes, they are not \n",
    "#circularly rotating\n",
    "a = Node(1)\n",
    "b = Node(2)\n",
    "c = Node(3)\n",
    "\n",
    "cycle_check(a)"
   ]
  },
  {
   "cell_type": "code",
   "execution_count": 37,
   "id": "dd532aea-cb46-4d0b-b340-ada3d2afdae6",
   "metadata": {},
   "outputs": [
    {
     "data": {
      "text/plain": [
       "True"
      ]
     },
     "execution_count": 37,
     "metadata": {},
     "output_type": "execute_result"
    }
   ],
   "source": [
    "a.nextnode = b\n",
    "b.nextnode = c\n",
    "c.nextnode = a #Cycle here\n",
    "\n",
    "cycle_check(b)"
   ]
  },
  {
   "cell_type": "markdown",
   "id": "1d95a421-65e3-4bd0-b2ec-70d7860a96c0",
   "metadata": {},
   "source": [
    "## Test your solution"
   ]
  },
  {
   "cell_type": "code",
   "execution_count": 30,
   "id": "3f240243-583f-401f-bce6-18efd4d0662f",
   "metadata": {},
   "outputs": [
    {
     "name": "stdout",
     "output_type": "stream",
     "text": [
      "ALL TEST CASES PASSED\n"
     ]
    }
   ],
   "source": [
    "\"\"\"\n",
    "Run this cell to test your solution\n",
    "\"\"\"\n",
    "\n",
    "from nose.tools import assert_equal\n",
    "\n",
    "#Create a circle list \n",
    "\n",
    "a = Node(1)\n",
    "b = Node(2)\n",
    "c = Node(3)\n",
    "\n",
    "\n",
    "a.nextnode = b\n",
    "b.nextnode = c\n",
    "c.nextnode = a #Cycle here\n",
    "\n",
    "\n",
    "#Create non cycle list\n",
    "x = Node(1)\n",
    "y = Node(2)\n",
    "z = Node(3)\n",
    "\n",
    "x.nextnode = y\n",
    "y.nextnode = z\n",
    "\n",
    "######\n",
    "class TestCycleCheck(object):\n",
    "    \n",
    "    def test(self, sol):\n",
    "        assert_equal(sol(a), True)\n",
    "        assert_equal(sol(x), False)\n",
    "        \n",
    "        print(\"ALL TEST CASES PASSED\")\n",
    "        \n",
    "#Run Tests\n",
    "t = TestCycleCheck()\n",
    "t.test(cycle_check)"
   ]
  },
  {
   "cell_type": "markdown",
   "id": "742049ba-a13f-4d18-8058-a02c12a7d2cf",
   "metadata": {},
   "source": [
    "## Linked List Reversal\n",
    "\n",
    "### Problem\n",
    "\n",
    "Write a function to reverse a linked list in place. The function will take in the head of the list as input and return the new head of the list.\n",
    "\n",
    "You are given the example linked list node class:\n",
    "\n"
   ]
  },
  {
   "cell_type": "code",
   "execution_count": 38,
   "id": "805304da-3bf9-41de-9b82-df26b25df714",
   "metadata": {},
   "outputs": [],
   "source": [
    "class Node(object):\n",
    "    \n",
    "    def __init__(self, value):\n",
    "        \n",
    "        self.value = value\n",
    "        self.nextnode = None"
   ]
  },
  {
   "cell_type": "markdown",
   "id": "7cb00e35-633e-4cf9-b19a-49cdedbaa386",
   "metadata": {},
   "source": [
    "## Solution\n",
    "Since we want to do this in place we want to make the function operate in O(1) space, meaning we don't want to create a new list, so we will simply use the current nodes. Time wise, we can perform reversal in O(n) time.\n",
    "\n",
    "We can reverse the list by changing the next pointer of each node. Each nodes next pointer should point to the previous node.\n",
    "\n",
    "In one pass from the head to tail of our input list, we will point each node's next pointer to the previous element.\n",
    "\n",
    "Make sure to copy current.next_node **before** setting current.next_node to previous. "
   ]
  },
  {
   "cell_type": "code",
   "execution_count": 44,
   "id": "aa28e4ea-6d02-4926-92ab-9fda675fad34",
   "metadata": {},
   "outputs": [],
   "source": [
    "def reverse(head):\n",
    "    \n",
    "    #setting up current previous and next nodes\n",
    "    current = head\n",
    "    previous = None\n",
    "    nextnode = None\n",
    "    \n",
    "    #untill we have gone through to the end of the list\n",
    "    \n",
    "    while current:\n",
    "        \n",
    "        #Make sure to copy the current nodes next node to a \n",
    "        # variable next_node\n",
    "        #Before overwriting as the previous node for reversal\n",
    "        nextnode = current.nextnode\n",
    "        \n",
    "        #Reverse the pointer to the next_node\n",
    "        current.nextnode = previous\n",
    "        \n",
    "        #Go one forward in the list\n",
    "        previous = current\n",
    "        current = nextnode\n",
    "        \n",
    "    return previous\n",
    "\n",
    "\n",
    "    "
   ]
  },
  {
   "cell_type": "code",
   "execution_count": 45,
   "id": "455ec482-41b0-4269-959d-fc860bb1ae07",
   "metadata": {},
   "outputs": [],
   "source": [
    "# Create a list of 4 nodes\n",
    "a = Node(1)\n",
    "b = Node(2)\n",
    "c = Node(3)\n",
    "d = Node(4)\n",
    "\n",
    "# Set up order a,b,c,d with values 1,2,3,4\n",
    "a.nextnode = b\n",
    "b.nextnode = c\n",
    "c.nextnode = d"
   ]
  },
  {
   "cell_type": "code",
   "execution_count": 46,
   "id": "c62ab418-d07e-4201-a079-8d8232d69abc",
   "metadata": {},
   "outputs": [
    {
     "name": "stdout",
     "output_type": "stream",
     "text": [
      "2\n",
      "3\n",
      "4\n"
     ]
    }
   ],
   "source": [
    "print(a.nextnode.value)\n",
    "print(b.nextnode.value)\n",
    "print(c.nextnode.value)"
   ]
  },
  {
   "cell_type": "code",
   "execution_count": 47,
   "id": "7b8fa266-30a3-4e44-8b5b-9b50e243eba3",
   "metadata": {},
   "outputs": [
    {
     "data": {
      "text/plain": [
       "<__main__.Node at 0x7f9796b2a790>"
      ]
     },
     "execution_count": 47,
     "metadata": {},
     "output_type": "execute_result"
    }
   ],
   "source": [
    "reverse(a)"
   ]
  },
  {
   "cell_type": "code",
   "execution_count": 48,
   "id": "9e7f8f98-d24f-433a-9aa9-68ad5f48a931",
   "metadata": {},
   "outputs": [
    {
     "name": "stdout",
     "output_type": "stream",
     "text": [
      "3\n",
      "2\n",
      "1\n"
     ]
    }
   ],
   "source": [
    "print(d.nextnode.value)\n",
    "print(c.nextnode.value)\n",
    "print(b.nextnode.value)"
   ]
  },
  {
   "cell_type": "code",
   "execution_count": null,
   "id": "a477cd1a-138a-4548-9a83-ea5794fee19f",
   "metadata": {},
   "outputs": [],
   "source": []
  }
 ],
 "metadata": {
  "kernelspec": {
   "display_name": "Python 3 (ipykernel)",
   "language": "python",
   "name": "python3"
  },
  "language_info": {
   "codemirror_mode": {
    "name": "ipython",
    "version": 3
   },
   "file_extension": ".py",
   "mimetype": "text/x-python",
   "name": "python",
   "nbconvert_exporter": "python",
   "pygments_lexer": "ipython3",
   "version": "3.9.13"
  }
 },
 "nbformat": 4,
 "nbformat_minor": 5
}
