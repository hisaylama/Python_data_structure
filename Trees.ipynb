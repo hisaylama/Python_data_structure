{
 "cells": [
  {
   "cell_type": "markdown",
   "id": "9f5d9292-54db-4030-b389-484ecd8d9dbe",
   "metadata": {
    "jp-MarkdownHeadingCollapsed": true,
    "tags": []
   },
   "source": [
    "## Trees\n",
    "\n",
    "A **Tree** consists of a set of nodes and a set of edges that connect pairs of nodes. A tree has the following properties:\n",
    "- One node of the tree is designated as the root node.\n",
    "- Every node *n*, except the root node, is connected by an edge from exactly one other node *p*, where *p* is the parent of *n*.\n",
    "- A unique path traverses from the root to each node.\n",
    "- If each node in the tree has a maximum of two children, we say that the tree is a binary tree.\n",
    "\n",
    "\n",
    "**Second definition** A tree is either empty or consists of a root and zero or more subtrees, each of which is also a tree. The root of each subtree is connected to the root of the parent tree by an edge. "
   ]
  },
  {
   "cell_type": "markdown",
   "id": "9268b556-a555-4c78-ac3f-f8a3785291a1",
   "metadata": {},
   "source": [
    "### Representing a Tree through Lists"
   ]
  },
  {
   "cell_type": "code",
   "execution_count": 1,
   "id": "8bd0e7ed-fc0b-4d2f-a939-a757f0cbf013",
   "metadata": {},
   "outputs": [],
   "source": [
    "my_tree = ['a', #root\n",
    "          ['b', #left subtree\n",
    "          ['d', [], []],\n",
    "          ['e', [], []] ],\n",
    "          ['c',  #right subtree\n",
    "          ['f', [], []],\n",
    "          [] ]\n",
    "          ]"
   ]
  },
  {
   "cell_type": "code",
   "execution_count": 2,
   "id": "aa0746b8-eac0-4154-85a3-49abb28c99cf",
   "metadata": {},
   "outputs": [
    {
     "name": "stdout",
     "output_type": "stream",
     "text": [
      "['a', ['b', ['d', [], []], ['e', [], []]], ['c', ['f', [], []], []]]\n"
     ]
    }
   ],
   "source": [
    "print(my_tree)"
   ]
  },
  {
   "cell_type": "markdown",
   "id": "5f69f056",
   "metadata": {},
   "source": [
    "## Trees nodes\n",
    "\n",
    "In linear data structures data items are stored in a sequential order, one after another, whereas nonlinear data structures store data items in a non-linear order, where a data can be connected to more than one data item. All of the data items in the linear data structures can be traversed in one pass, whereas this is not possible in the case of a non linear data structure. The trees are the non-linear data structures such as *arrays, lists, stacks* and *queues*.\n",
    "\n",
    "In the tree data structure, the nodes are arranged in a parent-child relationship. There should not be any cycle among the nodes in trees. The tree structure has nodes to form a hierarchy, and a tree that has no node is called an **empty tree**.\n",
    "\n",
    "A binary tree has a collections of nodes, where the nodes in the trees can have zero, 1, or 2 child nodes. A simple binary tree has a maximum of two children, that is, the left child and the right child. For example, in the following binary tree example, there is a root node that has two children (left child, right child).\n",
    "\n",
    "A tree is called a **full binary tree** if all the nodes of a binary tree have either zero or two children, and if there is no node that has 1 child. A binary tree is called a **complete binary tree** if it is completely filled, with a possible exception at the bottom level, which is filled from left to right. "
   ]
  },
  {
   "cell_type": "code",
   "execution_count": 1,
   "id": "10279b6a",
   "metadata": {},
   "outputs": [],
   "source": [
    "class Node:\n",
    "    def __init__(self, data):\n",
    "        self.data = data\n",
    "        self.right_child = None\n",
    "        self.left_child = None"
   ]
  },
  {
   "cell_type": "markdown",
   "id": "e189b2fe",
   "metadata": {},
   "source": [
    "Create `n1, n2, n3` and `n4` are four nodes"
   ]
  },
  {
   "cell_type": "code",
   "execution_count": 2,
   "id": "edfd9e15",
   "metadata": {},
   "outputs": [],
   "source": [
    "n1 = Node(\"root node\")\n",
    "n2 = Node(\"left child node\")\n",
    "n3 = Node(\"right child node\")\n",
    "n4 = Node(\"left grandchild node\")"
   ]
  },
  {
   "cell_type": "code",
   "execution_count": 3,
   "id": "bcb43c96",
   "metadata": {},
   "outputs": [],
   "source": [
    "n1.left_child = n2\n",
    "n1.right_child = n3\n",
    "n2.left_child = n4"
   ]
  },
  {
   "cell_type": "markdown",
   "id": "24d61d11",
   "metadata": {},
   "source": [
    "### Tree Traversal\n",
    "The methods for tree traversal. This can be done either depth-first search (DFS) or breadth-first search (BFS) agorithm.\n",
    "\n",
    "**Depth First Traversal**\n",
    "In depth first traversal, we traverse the tree starting from the root, and go deeper into the tree as much as possible on each child, and then continue to traverse to the next sibling. We use the recursive approach for tree traversal."
   ]
  },
  {
   "cell_type": "code",
   "execution_count": 15,
   "id": "1679c276-7fc4-4540-bf63-e3aabfb28723",
   "metadata": {},
   "outputs": [
    {
     "name": "stdout",
     "output_type": "stream",
     "text": [
      "root node\n",
      "left child node\n",
      "left grandchild node\n",
      "\n",
      "\n"
     ]
    }
   ],
   "source": [
    "class Node: \n",
    "        def __init__(self, data): \n",
    "            self.data = data \n",
    "            self.right_child = None \n",
    "            self.left_child = None \n",
    "\n",
    "n1 = Node(\"root node\")  \n",
    "n2 = Node(\"left child node\") \n",
    "n3 = Node(\"right child node\") \n",
    "n4 = Node(\"left grandchild node\") \n",
    "n1.left_child = n2 \n",
    "n1.right_child = n3 \n",
    "n2.left_child = n4 \n",
    "\n",
    "current = n1 \n",
    "while current: \n",
    "        print(current.data) \n",
    "        current = current.left_child \n",
    "\n",
    "print(\"\\n\" )"
   ]
  },
  {
   "cell_type": "markdown",
   "id": "ff42fbf8-43b7-4ed5-bc50-8999ebe57697",
   "metadata": {},
   "source": [
    "### In order traversal and infix notation\n",
    "\n",
    "1. We start traversinig the left sub-tree and call the `in-order` function recursively.\n",
    "\n",
    "2. Next, we visit the root node.\n",
    "\n",
    "3. Finally, we traverse the right sub-tree and call the `in-order` function recursively.\n",
    "\n",
    "So, in a nutshell, in-order tree traversal, we visit the nodes in the tree and in the tree in order of (left sub-tree, root and right sub-tree).\n",
    "\n",
    "```\n",
    "n1 = Node(\"root node\")  \n",
    "n2 = Node(\"left child node\") \n",
    "n3 = Node(\"right child node\") \n",
    "n4 = Node(\"left grandchild node\") \n",
    "```"
   ]
  },
  {
   "cell_type": "code",
   "execution_count": 20,
   "id": "9fd4778b-ad7b-4590-96e9-a79d0167191c",
   "metadata": {},
   "outputs": [
    {
     "name": "stdout",
     "output_type": "stream",
     "text": [
      "left grandchild node\n",
      "left child node\n",
      "root node\n",
      "right child node\n",
      "\n",
      "\n"
     ]
    }
   ],
   "source": [
    "#In order traversal and infix notation\n",
    "\n",
    "def inorder(root_node): \n",
    "    current = root_node \n",
    "    if current is None: \n",
    "        return \n",
    "    inorder(current.left_child) \n",
    "    print(current.data) \n",
    "    inorder(current.right_child) \n",
    "\n",
    "inorder(n1)\n",
    "print(\"\\n\" )"
   ]
  },
  {
   "cell_type": "code",
   "execution_count": null,
   "id": "017fece6-2c9a-43ee-8a18-9b19914637a0",
   "metadata": {},
   "outputs": [],
   "source": [
    "def preorder(root_node): \n",
    "        current = root_node \n",
    "        if current is None: \n",
    "            return \n",
    "        print(current.data) \n",
    "        preorder(current.left_child) \n",
    "        preorder(current.right_child) \n",
    "\n",
    "\n",
    "def postorder(root_node): \n",
    "        current = root_node \n",
    "        if current is None: \n",
    "            return \n",
    "        postorder(current.left_child) \n",
    "        postorder(current.right_child) \n",
    "        print(current.data)\n",
    "        \n",
    "preorder( n1)\n",
    "print(\"\\n\" )\n",
    "postorder(n1)"
   ]
  },
  {
   "cell_type": "code",
   "execution_count": 13,
   "id": "dab100b0-5537-43d2-b371-9a41c6820e13",
   "metadata": {},
   "outputs": [
    {
     "name": "stdout",
     "output_type": "stream",
     "text": [
      "['root node', 'left child node', 'right child node', 'left grandchild node']\n"
     ]
    }
   ],
   "source": [
    "from collections import deque \n",
    "\n",
    "class Node: \n",
    "        def __init__(self, data): \n",
    "            self.data = data \n",
    "            self.right_child = None \n",
    "            self.left_child = None \n",
    "\n",
    "n1 = Node(\"root node\")  \n",
    "n2 = Node(\"left child node\") \n",
    "n3 = Node(\"right child node\") \n",
    "n4 = Node(\"left grandchild node\") \n",
    "n1.left_child = n2 \n",
    "n1.right_child = n3 \n",
    "n2.left_child = n4 \n",
    "\n",
    "\n",
    "\n",
    "def breadth_first_traversal(root_node): \n",
    "            list_of_nodes = [] \n",
    "            traversal_queue = deque([root_node]) \n",
    "\n",
    "            while len(traversal_queue) > 0:\n",
    "                node = traversal_queue.popleft() \n",
    "                list_of_nodes.append(node.data) \n",
    "                if node.left_child: \n",
    "                    traversal_queue.append(node.left_child) \n",
    "                if node.right_child: \n",
    "                    traversal_queue.append(node.right_child) \n",
    "            return list_of_nodes \n",
    "\n",
    "\n",
    "\n",
    "print(breadth_first_traversal(n1))"
   ]
  },
  {
   "cell_type": "code",
   "execution_count": null,
   "id": "6b84a84c-1c46-4412-aecf-a95ea5b9ad98",
   "metadata": {},
   "outputs": [],
   "source": []
  }
 ],
 "metadata": {
  "kernelspec": {
   "display_name": "Python 3 (ipykernel)",
   "language": "python",
   "name": "python3"
  },
  "language_info": {
   "codemirror_mode": {
    "name": "ipython",
    "version": 3
   },
   "file_extension": ".py",
   "mimetype": "text/x-python",
   "name": "python",
   "nbconvert_exporter": "python",
   "pygments_lexer": "ipython3",
   "version": "3.9.13"
  }
 },
 "nbformat": 4,
 "nbformat_minor": 5
}
